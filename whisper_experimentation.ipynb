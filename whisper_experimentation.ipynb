{
 "cells": [
  {
   "cell_type": "code",
   "execution_count": null,
   "metadata": {},
   "outputs": [],
   "source": [
    "import whisper\n",
    "model = whisper.load_model(\"large\")\n"
   ]
  },
  {
   "cell_type": "code",
   "execution_count": 289,
   "metadata": {},
   "outputs": [],
   "source": [
    "import os\n",
    "import telebot\n",
    "import requests\n",
    "from dotenv import load_dotenv\n",
    "\n",
    "load_dotenv('bot_token.env')\n",
    "BOT_TOKEN = os.environ.get('TELEGRAM_BOT_TOKEN')"
   ]
  },
  {
   "cell_type": "code",
   "execution_count": 290,
   "metadata": {},
   "outputs": [],
   "source": [
    "def download_file(URL):\n",
    "\tresponse = requests.get(URL)\n",
    "\twith open('voice.ogx', 'wb') as f:\n",
    "\t\tf.write(response.content)"
   ]
  },
  {
   "cell_type": "code",
   "execution_count": 291,
   "metadata": {},
   "outputs": [],
   "source": [
    "initial_string = '''I can help you convert your audio/voice notes to text.\n",
    "Created by [Samuel Bamgbola](twitter.com/Sammyabams)\n",
    "Github Page [Whisper to Text bot](github.com/Sammybams/...)\n",
    "\n",
    "I automatically transcribe your audio/voice notes to the language in the file.\n",
    "\n",
    "You can control me by sending these commands:\n",
    "\n",
    "Help\n",
    "/help - give control commands\n",
    "\n",
    "Functions\n",
    "/detect - to detect spoken language\n",
    "/translate - to translate to english\n",
    "\n",
    "[Languages Supported](https://github.com/openai/whisper/blob/main/whisper/tokenizer.py)\n",
    "'''\n",
    "\n",
    "help_string = '''Functions\n",
    "/detect - to detect spoken language\n",
    "/translate - to translate to english\n",
    "'''"
   ]
  },
  {
   "cell_type": "code",
   "execution_count": 292,
   "metadata": {},
   "outputs": [],
   "source": [
    "bot = telebot.TeleBot(BOT_TOKEN)"
   ]
  },
  {
   "cell_type": "code",
   "execution_count": 293,
   "metadata": {},
   "outputs": [],
   "source": [
    "@bot.message_handler(commands=['start', 'hello'])\n",
    "def send_welcome(message):\n",
    "    global initial_string\n",
    "    bot.reply_to(message, \"Hi, I am Whisper to Text bot.\\nWelcome, how are you doing?\")\n",
    "    bot.send_message(message.chat.id, initial_string, parse_mode=\"Markdown\")"
   ]
  },
  {
   "cell_type": "code",
   "execution_count": 296,
   "metadata": {},
   "outputs": [],
   "source": [
    "@bot.message_handler(commands=['help'])\n",
    "def help_command(message):\n",
    "    sent_msg = bot.send_message(message.chat.id, help_string, parse_mode=\"Markdown\")\n",
    "\n",
    "@bot.message_handler(commands=['detect'])\n",
    "def detect_function(message):\n",
    "    sent_msg = bot.send_message(message.chat.id, \"Send audio to detect language\")\n",
    "    #bot.send_message(message.chat.id, initial_string, parse_mode=\"Markdown\")\n",
    "    bot.register_next_step_handler(sent_msg, to_detect)\n",
    "    #file_info = telebot.get_file(message['file_id'])\n",
    "\n",
    "@bot.message_handler(content_types=['audio'])\n",
    "def to_detect(message):\n",
    "    #updates = bot.get_updates(limit=1) #get_Updates(offset, limit, timeout):\n",
    "    print(message)\n",
    "    updates = message\n",
    "    print(updates)\n",
    "    print()\n",
    "    print(updates.voice)\n",
    "    print()\n",
    "    print(updates.voice.file_id)\n",
    "    print()\n",
    "    file_info = bot.get_file(updates.voice.file_id)\n",
    "    download_file('https://api.telegram.org/file/bot{0}/{1}'.format(API_TOKEN, file_info.file_path))\n",
    "    # load audio and pad/trim it to fit 30 seconds\n",
    "    audio = whisper.load_audio('voice.ogx')\n",
    "    audio = whisper.pad_or_trim(audio)\n",
    "\n",
    "    # make log-Mel spectrogram and move to the same device as the model\n",
    "    mel = whisper.log_mel_spectrogram(audio).to(model.device)\n",
    "\n",
    "    # detect the spoken language\n",
    "    _, probs = model.detect_language(mel)\n",
    "\n",
    "    sent_msg = bot.reply_to(message, f\"Detected language: {max(probs, key=probs.get)}\", parse_mode=\"Markdown\")\n",
    "\n"
   ]
  },
  {
   "cell_type": "code",
   "execution_count": 114,
   "metadata": {},
   "outputs": [],
   "source": [
    "@bot.message_handler(content_types=['audio'])\n",
    "def handle_audio(message):\n",
    "    file_info = bot.get_file(updates.voice.file_id)\n",
    "    download_file('https://api.telegram.org/file/bot{0}/{1}'.format(API_TOKEN, file_info.file_path))\n",
    "    result = model.transcribe('voice.ogx')\n",
    "    sent_msg = bot.reply_to(message.id, result[\"text\"], parse_mode=\"Markdown\")"
   ]
  },
  {
   "cell_type": "code",
   "execution_count": 295,
   "metadata": {
    "scrolled": false
   },
   "outputs": [
    {
     "name": "stdout",
     "output_type": "stream",
     "text": [
      "{'content_type': 'voice', 'id': 226, 'message_id': 226, 'from_user': {'id': 1122814054, 'is_bot': False, 'first_name': 'Samuel', 'username': 'sammybams', 'last_name': None, 'language_code': 'en', 'can_join_groups': None, 'can_read_all_group_messages': None, 'supports_inline_queries': None, 'is_premium': None, 'added_to_attachment_menu': None}, 'date': 1678996870, 'chat': {'id': 1122814054, 'type': 'private', 'title': None, 'username': 'sammybams', 'first_name': 'Samuel', 'last_name': None, 'is_forum': None, 'photo': None, 'bio': None, 'join_to_send_messages': None, 'join_by_request': None, 'has_private_forwards': None, 'has_restricted_voice_and_video_messages': None, 'description': None, 'invite_link': None, 'pinned_message': None, 'permissions': None, 'slow_mode_delay': None, 'message_auto_delete_time': None, 'has_protected_content': None, 'sticker_set_name': None, 'can_set_sticker_set': None, 'linked_chat_id': None, 'location': None, 'active_usernames': None, 'emoji_status_custom_emoji_id': None, 'has_hidden_members': None, 'has_aggressive_anti_spam_enabled': None}, 'sender_chat': None, 'forward_from': None, 'forward_from_chat': None, 'forward_from_message_id': None, 'forward_signature': None, 'forward_sender_name': None, 'forward_date': None, 'is_automatic_forward': None, 'reply_to_message': None, 'via_bot': None, 'edit_date': None, 'has_protected_content': None, 'media_group_id': None, 'author_signature': None, 'text': None, 'entities': None, 'caption_entities': None, 'audio': None, 'document': None, 'photo': None, 'sticker': None, 'video': None, 'video_note': None, 'voice': {'file_id': 'AwACAgQAAxkBAAPiZBN1hl1rYX3Oxw1Z2L-V6tcomUYAAwwAAmp8oVAZtvKBWNi41i8E', 'file_unique_id': 'AgAEDAACanyhUA', 'duration': 1, 'performer': None, 'title': None, 'file_name': None, 'mime_type': 'audio/ogg', 'file_size': 26416, 'thumb': None}, 'caption': None, 'contact': None, 'location': None, 'venue': None, 'animation': None, 'dice': None, 'new_chat_member': None, 'new_chat_members': None, 'left_chat_member': None, 'new_chat_title': None, 'new_chat_photo': None, 'delete_chat_photo': None, 'group_chat_created': None, 'supergroup_chat_created': None, 'channel_chat_created': None, 'migrate_to_chat_id': None, 'migrate_from_chat_id': None, 'pinned_message': None, 'invoice': None, 'successful_payment': None, 'connected_website': None, 'reply_markup': None, 'message_thread_id': None, 'is_topic_message': None, 'forum_topic_created': None, 'forum_topic_closed': None, 'forum_topic_reopened': None, 'has_media_spoiler': None, 'forum_topic_edited': None, 'general_forum_topic_hidden': None, 'general_forum_topic_unhidden': None, 'write_access_allowed': None, 'user_shared': None, 'chat_shared': None, 'json': {'message_id': 226, 'from': {'id': 1122814054, 'is_bot': False, 'first_name': 'Samuel', 'username': 'sammybams', 'language_code': 'en'}, 'chat': {'id': 1122814054, 'first_name': 'Samuel', 'username': 'sammybams', 'type': 'private'}, 'date': 1678996870, 'voice': {'duration': 1, 'mime_type': 'audio/ogg', 'file_id': 'AwACAgQAAxkBAAPiZBN1hl1rYX3Oxw1Z2L-V6tcomUYAAwwAAmp8oVAZtvKBWNi41i8E', 'file_unique_id': 'AgAEDAACanyhUA', 'file_size': 26416}}}\n",
      "{'content_type': 'voice', 'id': 226, 'message_id': 226, 'from_user': {'id': 1122814054, 'is_bot': False, 'first_name': 'Samuel', 'username': 'sammybams', 'last_name': None, 'language_code': 'en', 'can_join_groups': None, 'can_read_all_group_messages': None, 'supports_inline_queries': None, 'is_premium': None, 'added_to_attachment_menu': None}, 'date': 1678996870, 'chat': {'id': 1122814054, 'type': 'private', 'title': None, 'username': 'sammybams', 'first_name': 'Samuel', 'last_name': None, 'is_forum': None, 'photo': None, 'bio': None, 'join_to_send_messages': None, 'join_by_request': None, 'has_private_forwards': None, 'has_restricted_voice_and_video_messages': None, 'description': None, 'invite_link': None, 'pinned_message': None, 'permissions': None, 'slow_mode_delay': None, 'message_auto_delete_time': None, 'has_protected_content': None, 'sticker_set_name': None, 'can_set_sticker_set': None, 'linked_chat_id': None, 'location': None, 'active_usernames': None, 'emoji_status_custom_emoji_id': None, 'has_hidden_members': None, 'has_aggressive_anti_spam_enabled': None}, 'sender_chat': None, 'forward_from': None, 'forward_from_chat': None, 'forward_from_message_id': None, 'forward_signature': None, 'forward_sender_name': None, 'forward_date': None, 'is_automatic_forward': None, 'reply_to_message': None, 'via_bot': None, 'edit_date': None, 'has_protected_content': None, 'media_group_id': None, 'author_signature': None, 'text': None, 'entities': None, 'caption_entities': None, 'audio': None, 'document': None, 'photo': None, 'sticker': None, 'video': None, 'video_note': None, 'voice': {'file_id': 'AwACAgQAAxkBAAPiZBN1hl1rYX3Oxw1Z2L-V6tcomUYAAwwAAmp8oVAZtvKBWNi41i8E', 'file_unique_id': 'AgAEDAACanyhUA', 'duration': 1, 'performer': None, 'title': None, 'file_name': None, 'mime_type': 'audio/ogg', 'file_size': 26416, 'thumb': None}, 'caption': None, 'contact': None, 'location': None, 'venue': None, 'animation': None, 'dice': None, 'new_chat_member': None, 'new_chat_members': None, 'left_chat_member': None, 'new_chat_title': None, 'new_chat_photo': None, 'delete_chat_photo': None, 'group_chat_created': None, 'supergroup_chat_created': None, 'channel_chat_created': None, 'migrate_to_chat_id': None, 'migrate_from_chat_id': None, 'pinned_message': None, 'invoice': None, 'successful_payment': None, 'connected_website': None, 'reply_markup': None, 'message_thread_id': None, 'is_topic_message': None, 'forum_topic_created': None, 'forum_topic_closed': None, 'forum_topic_reopened': None, 'has_media_spoiler': None, 'forum_topic_edited': None, 'general_forum_topic_hidden': None, 'general_forum_topic_unhidden': None, 'write_access_allowed': None, 'user_shared': None, 'chat_shared': None, 'json': {'message_id': 226, 'from': {'id': 1122814054, 'is_bot': False, 'first_name': 'Samuel', 'username': 'sammybams', 'language_code': 'en'}, 'chat': {'id': 1122814054, 'first_name': 'Samuel', 'username': 'sammybams', 'type': 'private'}, 'date': 1678996870, 'voice': {'duration': 1, 'mime_type': 'audio/ogg', 'file_id': 'AwACAgQAAxkBAAPiZBN1hl1rYX3Oxw1Z2L-V6tcomUYAAwwAAmp8oVAZtvKBWNi41i8E', 'file_unique_id': 'AgAEDAACanyhUA', 'file_size': 26416}}}\n",
      "\n",
      "{'file_id': 'AwACAgQAAxkBAAPiZBN1hl1rYX3Oxw1Z2L-V6tcomUYAAwwAAmp8oVAZtvKBWNi41i8E', 'file_unique_id': 'AgAEDAACanyhUA', 'duration': 1, 'performer': None, 'title': None, 'file_name': None, 'mime_type': 'audio/ogg', 'file_size': 26416, 'thumb': None}\n",
      "\n",
      "AwACAgQAAxkBAAPiZBN1hl1rYX3Oxw1Z2L-V6tcomUYAAwwAAmp8oVAZtvKBWNi41i8E\n",
      "\n"
     ]
    },
    {
     "name": "stderr",
     "output_type": "stream",
     "text": [
      "2023-03-16 21:01:11,760 (__init__.py:960 MainThread) ERROR - TeleBot: \"Infinity polling exception: name 'API_TOKEN' is not defined\"\n",
      "2023-03-16 21:01:11,764 (__init__.py:962 MainThread) ERROR - TeleBot: \"Exception traceback:\n",
      "Traceback (most recent call last):\n",
      "  File \"/Users/samuelbamgbola/Documents/whisper_to_text_bot/lib/python3.7/site-packages/telebot/__init__.py\", line 957, in infinity_polling\n",
      "    *args, **kwargs)\n",
      "  File \"/Users/samuelbamgbola/Documents/whisper_to_text_bot/lib/python3.7/site-packages/telebot/__init__.py\", line 1044, in polling\n",
      "    logger_level=logger_level, allowed_updates=allowed_updates)\n",
      "  File \"/Users/samuelbamgbola/Documents/whisper_to_text_bot/lib/python3.7/site-packages/telebot/__init__.py\", line 1118, in __threaded_polling\n",
      "    raise e\n",
      "  File \"/Users/samuelbamgbola/Documents/whisper_to_text_bot/lib/python3.7/site-packages/telebot/__init__.py\", line 1074, in __threaded_polling\n",
      "    self.worker_pool.raise_exceptions()\n",
      "  File \"/Users/samuelbamgbola/Documents/whisper_to_text_bot/lib/python3.7/site-packages/telebot/util.py\", line 148, in raise_exceptions\n",
      "    raise self.exception_info\n",
      "  File \"/Users/samuelbamgbola/Documents/whisper_to_text_bot/lib/python3.7/site-packages/telebot/util.py\", line 91, in run\n",
      "    task(*args, **kwargs)\n",
      "  File \"/var/folders/qn/bxn3gpq553nf7p7sly6btd7c0000gn/T/ipykernel_42910/798784638.py\", line 24, in to_detect\n",
      "    file = requests.get('https://api.telegram.org/file/bot{0}/{1}'.format(API_TOKEN, file_info.file_path))\n",
      "NameError: name 'API_TOKEN' is not defined\n",
      "\"\n",
      "2023-03-16 21:07:58,940 (__init__.py:1083 MainThread) ERROR - TeleBot: \"Threaded polling exception: A request to the Telegram API was unsuccessful. Error code: 409. Description: Conflict: terminated by other getUpdates request; make sure that only one bot instance is running\"\n",
      "2023-03-16 21:07:58,969 (__init__.py:1085 MainThread) ERROR - TeleBot: \"Exception traceback:\n",
      "Traceback (most recent call last):\n",
      "  File \"/Users/samuelbamgbola/Documents/whisper_to_text_bot/lib/python3.7/site-packages/telebot/__init__.py\", line 1073, in __threaded_polling\n",
      "    polling_thread.raise_exceptions()\n",
      "  File \"/Users/samuelbamgbola/Documents/whisper_to_text_bot/lib/python3.7/site-packages/telebot/util.py\", line 109, in raise_exceptions\n",
      "    raise self.exception_info\n",
      "  File \"/Users/samuelbamgbola/Documents/whisper_to_text_bot/lib/python3.7/site-packages/telebot/util.py\", line 91, in run\n",
      "    task(*args, **kwargs)\n",
      "  File \"/Users/samuelbamgbola/Documents/whisper_to_text_bot/lib/python3.7/site-packages/telebot/__init__.py\", line 651, in __retrieve_updates\n",
      "    timeout=timeout, long_polling_timeout=long_polling_timeout)\n",
      "  File \"/Users/samuelbamgbola/Documents/whisper_to_text_bot/lib/python3.7/site-packages/telebot/__init__.py\", line 623, in get_updates\n",
      "    json_updates = apihelper.get_updates(self.token, offset, limit, timeout, allowed_updates, long_polling_timeout)\n",
      "  File \"/Users/samuelbamgbola/Documents/whisper_to_text_bot/lib/python3.7/site-packages/telebot/apihelper.py\", line 321, in get_updates\n",
      "    return _make_request(token, method_url, params=payload)\n",
      "  File \"/Users/samuelbamgbola/Documents/whisper_to_text_bot/lib/python3.7/site-packages/telebot/apihelper.py\", line 162, in _make_request\n",
      "    json_result = _check_result(method_name, result)\n",
      "  File \"/Users/samuelbamgbola/Documents/whisper_to_text_bot/lib/python3.7/site-packages/telebot/apihelper.py\", line 189, in _check_result\n",
      "    raise ApiTelegramException(method_name, result, result_json)\n",
      "telebot.apihelper.ApiTelegramException: A request to the Telegram API was unsuccessful. Error code: 409. Description: Conflict: terminated by other getUpdates request; make sure that only one bot instance is running\n",
      "\"\n",
      "2023-03-16 21:08:02,796 (__init__.py:1083 MainThread) ERROR - TeleBot: \"Threaded polling exception: A request to the Telegram API was unsuccessful. Error code: 409. Description: Conflict: terminated by other getUpdates request; make sure that only one bot instance is running\"\n",
      "2023-03-16 21:08:02,798 (__init__.py:1085 MainThread) ERROR - TeleBot: \"Exception traceback:\n",
      "Traceback (most recent call last):\n",
      "  File \"/Users/samuelbamgbola/Documents/whisper_to_text_bot/lib/python3.7/site-packages/telebot/__init__.py\", line 1073, in __threaded_polling\n",
      "    polling_thread.raise_exceptions()\n",
      "  File \"/Users/samuelbamgbola/Documents/whisper_to_text_bot/lib/python3.7/site-packages/telebot/util.py\", line 109, in raise_exceptions\n",
      "    raise self.exception_info\n",
      "  File \"/Users/samuelbamgbola/Documents/whisper_to_text_bot/lib/python3.7/site-packages/telebot/util.py\", line 91, in run\n",
      "    task(*args, **kwargs)\n",
      "  File \"/Users/samuelbamgbola/Documents/whisper_to_text_bot/lib/python3.7/site-packages/telebot/__init__.py\", line 651, in __retrieve_updates\n",
      "    timeout=timeout, long_polling_timeout=long_polling_timeout)\n",
      "  File \"/Users/samuelbamgbola/Documents/whisper_to_text_bot/lib/python3.7/site-packages/telebot/__init__.py\", line 623, in get_updates\n",
      "    json_updates = apihelper.get_updates(self.token, offset, limit, timeout, allowed_updates, long_polling_timeout)\n",
      "  File \"/Users/samuelbamgbola/Documents/whisper_to_text_bot/lib/python3.7/site-packages/telebot/apihelper.py\", line 321, in get_updates\n",
      "    return _make_request(token, method_url, params=payload)\n",
      "  File \"/Users/samuelbamgbola/Documents/whisper_to_text_bot/lib/python3.7/site-packages/telebot/apihelper.py\", line 162, in _make_request\n",
      "    json_result = _check_result(method_name, result)\n",
      "  File \"/Users/samuelbamgbola/Documents/whisper_to_text_bot/lib/python3.7/site-packages/telebot/apihelper.py\", line 189, in _check_result\n",
      "    raise ApiTelegramException(method_name, result, result_json)\n",
      "telebot.apihelper.ApiTelegramException: A request to the Telegram API was unsuccessful. Error code: 409. Description: Conflict: terminated by other getUpdates request; make sure that only one bot instance is running\n",
      "\"\n",
      "2023-03-16 21:08:07,028 (__init__.py:1083 MainThread) ERROR - TeleBot: \"Threaded polling exception: A request to the Telegram API was unsuccessful. Error code: 409. Description: Conflict: terminated by other getUpdates request; make sure that only one bot instance is running\"\n",
      "2023-03-16 21:08:07,035 (__init__.py:1085 MainThread) ERROR - TeleBot: \"Exception traceback:\n",
      "Traceback (most recent call last):\n",
      "  File \"/Users/samuelbamgbola/Documents/whisper_to_text_bot/lib/python3.7/site-packages/telebot/__init__.py\", line 1073, in __threaded_polling\n",
      "    polling_thread.raise_exceptions()\n",
      "  File \"/Users/samuelbamgbola/Documents/whisper_to_text_bot/lib/python3.7/site-packages/telebot/util.py\", line 109, in raise_exceptions\n",
      "    raise self.exception_info\n",
      "  File \"/Users/samuelbamgbola/Documents/whisper_to_text_bot/lib/python3.7/site-packages/telebot/util.py\", line 91, in run\n",
      "    task(*args, **kwargs)\n",
      "  File \"/Users/samuelbamgbola/Documents/whisper_to_text_bot/lib/python3.7/site-packages/telebot/__init__.py\", line 651, in __retrieve_updates\n",
      "    timeout=timeout, long_polling_timeout=long_polling_timeout)\n",
      "  File \"/Users/samuelbamgbola/Documents/whisper_to_text_bot/lib/python3.7/site-packages/telebot/__init__.py\", line 623, in get_updates\n",
      "    json_updates = apihelper.get_updates(self.token, offset, limit, timeout, allowed_updates, long_polling_timeout)\n",
      "  File \"/Users/samuelbamgbola/Documents/whisper_to_text_bot/lib/python3.7/site-packages/telebot/apihelper.py\", line 321, in get_updates\n",
      "    return _make_request(token, method_url, params=payload)\n",
      "  File \"/Users/samuelbamgbola/Documents/whisper_to_text_bot/lib/python3.7/site-packages/telebot/apihelper.py\", line 162, in _make_request\n",
      "    json_result = _check_result(method_name, result)\n",
      "  File \"/Users/samuelbamgbola/Documents/whisper_to_text_bot/lib/python3.7/site-packages/telebot/apihelper.py\", line 189, in _check_result\n",
      "    raise ApiTelegramException(method_name, result, result_json)\n",
      "telebot.apihelper.ApiTelegramException: A request to the Telegram API was unsuccessful. Error code: 409. Description: Conflict: terminated by other getUpdates request; make sure that only one bot instance is running\n",
      "\"\n",
      "2023-03-16 21:08:12,215 (__init__.py:1083 MainThread) ERROR - TeleBot: \"Threaded polling exception: A request to the Telegram API was unsuccessful. Error code: 409. Description: Conflict: terminated by other getUpdates request; make sure that only one bot instance is running\"\n"
     ]
    },
    {
     "name": "stderr",
     "output_type": "stream",
     "text": [
      "2023-03-16 21:08:12,219 (__init__.py:1085 MainThread) ERROR - TeleBot: \"Exception traceback:\n",
      "Traceback (most recent call last):\n",
      "  File \"/Users/samuelbamgbola/Documents/whisper_to_text_bot/lib/python3.7/site-packages/telebot/__init__.py\", line 1073, in __threaded_polling\n",
      "    polling_thread.raise_exceptions()\n",
      "  File \"/Users/samuelbamgbola/Documents/whisper_to_text_bot/lib/python3.7/site-packages/telebot/util.py\", line 109, in raise_exceptions\n",
      "    raise self.exception_info\n",
      "  File \"/Users/samuelbamgbola/Documents/whisper_to_text_bot/lib/python3.7/site-packages/telebot/util.py\", line 91, in run\n",
      "    task(*args, **kwargs)\n",
      "  File \"/Users/samuelbamgbola/Documents/whisper_to_text_bot/lib/python3.7/site-packages/telebot/__init__.py\", line 651, in __retrieve_updates\n",
      "    timeout=timeout, long_polling_timeout=long_polling_timeout)\n",
      "  File \"/Users/samuelbamgbola/Documents/whisper_to_text_bot/lib/python3.7/site-packages/telebot/__init__.py\", line 623, in get_updates\n",
      "    json_updates = apihelper.get_updates(self.token, offset, limit, timeout, allowed_updates, long_polling_timeout)\n",
      "  File \"/Users/samuelbamgbola/Documents/whisper_to_text_bot/lib/python3.7/site-packages/telebot/apihelper.py\", line 321, in get_updates\n",
      "    return _make_request(token, method_url, params=payload)\n",
      "  File \"/Users/samuelbamgbola/Documents/whisper_to_text_bot/lib/python3.7/site-packages/telebot/apihelper.py\", line 162, in _make_request\n",
      "    json_result = _check_result(method_name, result)\n",
      "  File \"/Users/samuelbamgbola/Documents/whisper_to_text_bot/lib/python3.7/site-packages/telebot/apihelper.py\", line 189, in _check_result\n",
      "    raise ApiTelegramException(method_name, result, result_json)\n",
      "telebot.apihelper.ApiTelegramException: A request to the Telegram API was unsuccessful. Error code: 409. Description: Conflict: terminated by other getUpdates request; make sure that only one bot instance is running\n",
      "\"\n",
      "2023-03-16 21:08:19,396 (__init__.py:1083 MainThread) ERROR - TeleBot: \"Threaded polling exception: A request to the Telegram API was unsuccessful. Error code: 409. Description: Conflict: terminated by other getUpdates request; make sure that only one bot instance is running\"\n",
      "2023-03-16 21:08:19,400 (__init__.py:1085 MainThread) ERROR - TeleBot: \"Exception traceback:\n",
      "Traceback (most recent call last):\n",
      "  File \"/Users/samuelbamgbola/Documents/whisper_to_text_bot/lib/python3.7/site-packages/telebot/__init__.py\", line 1073, in __threaded_polling\n",
      "    polling_thread.raise_exceptions()\n",
      "  File \"/Users/samuelbamgbola/Documents/whisper_to_text_bot/lib/python3.7/site-packages/telebot/util.py\", line 109, in raise_exceptions\n",
      "    raise self.exception_info\n",
      "  File \"/Users/samuelbamgbola/Documents/whisper_to_text_bot/lib/python3.7/site-packages/telebot/util.py\", line 91, in run\n",
      "    task(*args, **kwargs)\n",
      "  File \"/Users/samuelbamgbola/Documents/whisper_to_text_bot/lib/python3.7/site-packages/telebot/__init__.py\", line 651, in __retrieve_updates\n",
      "    timeout=timeout, long_polling_timeout=long_polling_timeout)\n",
      "  File \"/Users/samuelbamgbola/Documents/whisper_to_text_bot/lib/python3.7/site-packages/telebot/__init__.py\", line 623, in get_updates\n",
      "    json_updates = apihelper.get_updates(self.token, offset, limit, timeout, allowed_updates, long_polling_timeout)\n",
      "  File \"/Users/samuelbamgbola/Documents/whisper_to_text_bot/lib/python3.7/site-packages/telebot/apihelper.py\", line 321, in get_updates\n",
      "    return _make_request(token, method_url, params=payload)\n",
      "  File \"/Users/samuelbamgbola/Documents/whisper_to_text_bot/lib/python3.7/site-packages/telebot/apihelper.py\", line 162, in _make_request\n",
      "    json_result = _check_result(method_name, result)\n",
      "  File \"/Users/samuelbamgbola/Documents/whisper_to_text_bot/lib/python3.7/site-packages/telebot/apihelper.py\", line 189, in _check_result\n",
      "    raise ApiTelegramException(method_name, result, result_json)\n",
      "telebot.apihelper.ApiTelegramException: A request to the Telegram API was unsuccessful. Error code: 409. Description: Conflict: terminated by other getUpdates request; make sure that only one bot instance is running\n",
      "\"\n",
      "2023-03-16 21:08:26,115 (__init__.py:966 MainThread) ERROR - TeleBot: \"Infinity polling: polling exited\"\n",
      "2023-03-16 21:08:26,125 (__init__.py:968 MainThread) ERROR - TeleBot: \"Break infinity polling\"\n"
     ]
    }
   ],
   "source": [
    "bot.infinity_polling()"
   ]
  },
  {
   "cell_type": "code",
   "execution_count": null,
   "metadata": {},
   "outputs": [],
   "source": []
  },
  {
   "cell_type": "code",
   "execution_count": null,
   "metadata": {},
   "outputs": [],
   "source": [
    "@bot.message_handler(commands=['help'])\n",
    "def help_command(message):\n",
    "    sent_msg = bot.send_message(message.chat.id, help_string, parse_mode=\"Markdown\")\n",
    "\n",
    "@bot.message_handler(commands=['detect'])\n",
    "def detect_function(message):\n",
    "    sent_msg = bot.send_message(message.chat.id, \"Send audio to detect language\")\n",
    "    #bot.send_message(message.chat.id, initial_string, parse_mode=\"Markdown\")\n",
    "    bot.register_next_step_handler(sent_msg, to_detect)\n",
    "    #file_info = telebot.get_file(message['file_id'])\n",
    "    \n",
    "    global help_string, whisper, model\n",
    "    file_info = telebot.get_file(message['file_id'])\n",
    "    download_file(file_info['file_path'])\n",
    "    # load audio and pad/trim it to fit 30 seconds\n",
    "    audio = whisper.load_audio('voice.ogx')\n",
    "    audio = whisper.pad_or_trim(audio)\n",
    "\n",
    "    # make log-Mel spectrogram and move to the same device as the model\n",
    "    mel = whisper.log_mel_spectrogram(audio).to(model.device)\n",
    "\n",
    "    # detect the spoken language\n",
    "    _, probs = model.detect_language(mel)\n",
    "\n",
    "    sent_msg = bot.reply_to(message, f\"Detected language: {max(probs, key=probs.get)}\", parse_mode=\"Markdown\")\n",
    "\n",
    "@bot.message_handler(commands=['translate'], content_types=['audio'])\n",
    "def translate_function(message):\n",
    "    global model\n",
    "    file_info = telebot.get_file(message['file_id'])\n",
    "    download_file(file_info['file_path'])\n",
    "    result = model.trans('voice.ogx')\n",
    "    sent_msg = bot.reply_to(message, result, parse_mode=\"Markdown\")"
   ]
  },
  {
   "cell_type": "code",
   "execution_count": 173,
   "metadata": {},
   "outputs": [
    {
     "ename": "SyntaxError",
     "evalue": "invalid syntax (3925777116.py, line 1)",
     "output_type": "error",
     "traceback": [
      "\u001b[0;36m  File \u001b[0;32m\"/var/folders/qn/bxn3gpq553nf7p7sly6btd7c0000gn/T/ipykernel_42910/3925777116.py\"\u001b[0;36m, line \u001b[0;32m1\u001b[0m\n\u001b[0;31m    {'update_id': 947131217, 'message': {'content_type': 'voice', 'id': 142, 'message_id': 142, 'from_user': <telebot.types.User object at 0x7fd5980166d0>, 'date': 1678975573, 'chat': <telebot.types.Chat object at 0x7fd598016850>, 'sender_chat': None, 'forward_from': None, 'forward_from_chat': None, 'forward_from_message_id': None, 'forward_signature': None, 'forward_sender_name': None, 'forward_date': None, 'is_automatic_forward': None, 'reply_to_message': None, 'via_bot': None, 'edit_date': None, 'has_protected_content': None, 'media_group_id': None, 'author_signature': None, 'text': None, 'entities': None, 'caption_entities': None, 'audio': None, 'document': None, 'photo': None, 'sticker': None, 'video': None, 'video_note': None, 'voice': <telebot.types.Audio object at 0x7fd597fe3d50>, 'caption': None, 'contact': None, 'location': None, 'venue': None, 'animation': None, 'dice': None, 'new_chat_member': None, 'new_chat_members': None, 'left_chat_member': None, 'new_chat_title': None, 'new_chat_photo': None, 'delete_chat_photo': None, 'group_chat_created': None, 'supergroup_chat_created': None, 'channel_chat_created': None, 'migrate_to_chat_id': None, 'migrate_from_chat_id': None, 'pinned_message': None, 'invoice': None, 'successful_payment': None, 'connected_website': None, 'reply_markup': None, 'message_thread_id': None, 'is_topic_message': None, 'forum_topic_created': None, 'forum_topic_closed': None, 'forum_topic_reopened': None, 'has_media_spoiler': None, 'forum_topic_edited': None, 'general_forum_topic_hidden': None, 'general_forum_topic_unhidden': None, 'write_access_allowed': None, 'user_shared': None, 'chat_shared': None, 'json': {'message_id': 142, 'from': {'id': 1122814054, 'is_bot': False, 'first_name': 'Samuel', 'username': 'sammybams', 'language_code': 'en'}, 'chat': {'id': 1122814054, 'first_name': 'Samuel', 'username': 'sammybams', 'type': 'private'}, 'date': 1678975573, 'voice': {'duration': 1, 'mime_type': 'audio/ogg', 'file_id': 'AwACAgQAAxkBAAOOZBMiVZPBlB0c2wtDec8_JrY3GMYAAnsPAAJqfJlQTlFgWHTSqLMvBA', 'file_unique_id': 'AgADew8AAmp8mVA', 'file_size': 6826}}}, 'edited_message': None, 'channel_post': None, 'edited_channel_post': None, 'inline_query': None, 'chosen_inline_result': None, 'callback_query': None, 'shipping_query': None, 'pre_checkout_query': None, 'poll': None, 'poll_answer': None, 'my_chat_member': None, 'chat_member': None, 'chat_join_request': None}\u001b[0m\n\u001b[0m                                                                                                             ^\u001b[0m\n\u001b[0;31mSyntaxError\u001b[0m\u001b[0;31m:\u001b[0m invalid syntax\n"
     ]
    }
   ],
   "source": [
    "{'update_id': 947131217, 'message': {'content_type': 'voice', 'id': 142, 'message_id': 142, 'from_user': <telebot.types.User object at 0x7fd5980166d0>, 'date': 1678975573, 'chat': <telebot.types.Chat object at 0x7fd598016850>, 'sender_chat': None, 'forward_from': None, 'forward_from_chat': None, 'forward_from_message_id': None, 'forward_signature': None, 'forward_sender_name': None, 'forward_date': None, 'is_automatic_forward': None, 'reply_to_message': None, 'via_bot': None, 'edit_date': None, 'has_protected_content': None, 'media_group_id': None, 'author_signature': None, 'text': None, 'entities': None, 'caption_entities': None, 'audio': None, 'document': None, 'photo': None, 'sticker': None, 'video': None, 'video_note': None, 'voice': <telebot.types.Audio object at 0x7fd597fe3d50>, 'caption': None, 'contact': None, 'location': None, 'venue': None, 'animation': None, 'dice': None, 'new_chat_member': None, 'new_chat_members': None, 'left_chat_member': None, 'new_chat_title': None, 'new_chat_photo': None, 'delete_chat_photo': None, 'group_chat_created': None, 'supergroup_chat_created': None, 'channel_chat_created': None, 'migrate_to_chat_id': None, 'migrate_from_chat_id': None, 'pinned_message': None, 'invoice': None, 'successful_payment': None, 'connected_website': None, 'reply_markup': None, 'message_thread_id': None, 'is_topic_message': None, 'forum_topic_created': None, 'forum_topic_closed': None, 'forum_topic_reopened': None, 'has_media_spoiler': None, 'forum_topic_edited': None, 'general_forum_topic_hidden': None, 'general_forum_topic_unhidden': None, 'write_access_allowed': None, 'user_shared': None, 'chat_shared': None, 'json': {'message_id': 142, 'from': {'id': 1122814054, 'is_bot': False, 'first_name': 'Samuel', 'username': 'sammybams', 'language_code': 'en'}, 'chat': {'id': 1122814054, 'first_name': 'Samuel', 'username': 'sammybams', 'type': 'private'}, 'date': 1678975573, 'voice': {'duration': 1, 'mime_type': 'audio/ogg', 'file_id': 'AwACAgQAAxkBAAOOZBMiVZPBlB0c2wtDec8_JrY3GMYAAnsPAAJqfJlQTlFgWHTSqLMvBA', 'file_unique_id': 'AgADew8AAmp8mVA', 'file_size': 6826}}}, 'edited_message': None, 'channel_post': None, 'edited_channel_post': None, 'inline_query': None, 'chosen_inline_result': None, 'callback_query': None, 'shipping_query': None, 'pre_checkout_query': None, 'poll': None, 'poll_answer': None, 'my_chat_member': None, 'chat_member': None, 'chat_join_request': None}"
   ]
  },
  {
   "cell_type": "code",
   "execution_count": 174,
   "metadata": {},
   "outputs": [
    {
     "ename": "SyntaxError",
     "evalue": "invalid syntax (3925777116.py, line 1)",
     "output_type": "error",
     "traceback": [
      "\u001b[0;36m  File \u001b[0;32m\"/var/folders/qn/bxn3gpq553nf7p7sly6btd7c0000gn/T/ipykernel_42910/3925777116.py\"\u001b[0;36m, line \u001b[0;32m1\u001b[0m\n\u001b[0;31m    {'update_id': 947131217, 'message': {'content_type': 'voice', 'id': 142, 'message_id': 142, 'from_user': <telebot.types.User object at 0x7fd5980166d0>, 'date': 1678975573, 'chat': <telebot.types.Chat object at 0x7fd598016850>, 'sender_chat': None, 'forward_from': None, 'forward_from_chat': None, 'forward_from_message_id': None, 'forward_signature': None, 'forward_sender_name': None, 'forward_date': None, 'is_automatic_forward': None, 'reply_to_message': None, 'via_bot': None, 'edit_date': None, 'has_protected_content': None, 'media_group_id': None, 'author_signature': None, 'text': None, 'entities': None, 'caption_entities': None, 'audio': None, 'document': None, 'photo': None, 'sticker': None, 'video': None, 'video_note': None, 'voice': <telebot.types.Audio object at 0x7fd597fe3d50>, 'caption': None, 'contact': None, 'location': None, 'venue': None, 'animation': None, 'dice': None, 'new_chat_member': None, 'new_chat_members': None, 'left_chat_member': None, 'new_chat_title': None, 'new_chat_photo': None, 'delete_chat_photo': None, 'group_chat_created': None, 'supergroup_chat_created': None, 'channel_chat_created': None, 'migrate_to_chat_id': None, 'migrate_from_chat_id': None, 'pinned_message': None, 'invoice': None, 'successful_payment': None, 'connected_website': None, 'reply_markup': None, 'message_thread_id': None, 'is_topic_message': None, 'forum_topic_created': None, 'forum_topic_closed': None, 'forum_topic_reopened': None, 'has_media_spoiler': None, 'forum_topic_edited': None, 'general_forum_topic_hidden': None, 'general_forum_topic_unhidden': None, 'write_access_allowed': None, 'user_shared': None, 'chat_shared': None, 'json': {'message_id': 142, 'from': {'id': 1122814054, 'is_bot': False, 'first_name': 'Samuel', 'username': 'sammybams', 'language_code': 'en'}, 'chat': {'id': 1122814054, 'first_name': 'Samuel', 'username': 'sammybams', 'type': 'private'}, 'date': 1678975573, 'voice': {'duration': 1, 'mime_type': 'audio/ogg', 'file_id': 'AwACAgQAAxkBAAOOZBMiVZPBlB0c2wtDec8_JrY3GMYAAnsPAAJqfJlQTlFgWHTSqLMvBA', 'file_unique_id': 'AgADew8AAmp8mVA', 'file_size': 6826}}}, 'edited_message': None, 'channel_post': None, 'edited_channel_post': None, 'inline_query': None, 'chosen_inline_result': None, 'callback_query': None, 'shipping_query': None, 'pre_checkout_query': None, 'poll': None, 'poll_answer': None, 'my_chat_member': None, 'chat_member': None, 'chat_join_request': None}\u001b[0m\n\u001b[0m                                                                                                             ^\u001b[0m\n\u001b[0;31mSyntaxError\u001b[0m\u001b[0;31m:\u001b[0m invalid syntax\n"
     ]
    }
   ],
   "source": [
    "{'update_id': 947131217,\n",
    " 'message': {'content_type': 'voice', 'id': 142, 'message_id': 142, 'from_user': <telebot.types.User object at 0x7fd5980166d0>, 'date': 1678975573, 'chat': <telebot.types.Chat object at 0x7fd598016850>, 'sender_chat': None, 'forward_from': None, 'forward_from_chat': None, 'forward_from_message_id': None, 'forward_signature': None, 'forward_sender_name': None, 'forward_date': None, 'is_automatic_forward': None, 'reply_to_message': None, 'via_bot': None, 'edit_date': None, 'has_protected_content': None, 'media_group_id': None, 'author_signature': None, 'text': None, 'entities': None, 'caption_entities': None, 'audio': None, 'document': None, 'photo': None, 'sticker': None, 'video': None, 'video_note': None, 'voice': <telebot.types.Audio object at 0x7fd597fe3d50>, 'caption': None, 'contact': None, 'location': None, 'venue': None, 'animation': None, 'dice': None, 'new_chat_member': None, 'new_chat_members': None, 'left_chat_member': None, 'new_chat_title': None, 'new_chat_photo': None, 'delete_chat_photo': None, 'group_chat_created': None, 'supergroup_chat_created': None, 'channel_chat_created': None, 'migrate_to_chat_id': None, 'migrate_from_chat_id': None, 'pinned_message': None, 'invoice': None, 'successful_payment': None, 'connected_website': None, 'reply_markup': None, 'message_thread_id': None, 'is_topic_message': None, 'forum_topic_created': None, 'forum_topic_closed': None, 'forum_topic_reopened': None, 'has_media_spoiler': None, 'forum_topic_edited': None, 'general_forum_topic_hidden': None, 'general_forum_topic_unhidden': None, 'write_access_allowed': None, 'user_shared': None, 'chat_shared': None, 'json': {'message_id': 142, 'from': {'id': 1122814054, 'is_bot': False, 'first_name': 'Samuel', 'username': 'sammybams', 'language_code': 'en'},\n",
    " 'chat': {'id': 1122814054, 'first_name': 'Samuel', 'username': 'sammybams', 'type': 'private'},\n",
    " 'date': 1678975573,\n",
    " 'voice': {'duration': 1, 'mime_type': 'audio/ogg', 'file_id': 'AwACAgQAAxkBAAOOZBMiVZPBlB0c2wtDec8_JrY3GMYAAnsPAAJqfJlQTlFgWHTSqLMvBA', 'file_unique_id': 'AgADew8AAmp8mVA', 'file_size': 6826}}}, 'edited_message': None, 'channel_post': None, 'edited_channel_post': None, 'inline_query': None, 'chosen_inline_result': None, 'callback_query': None, 'shipping_query': None, 'pre_checkout_query': None, 'poll': None, 'poll_answer': None, 'my_chat_member': None, 'chat_member': None, 'chat_join_request': None}"
   ]
  },
  {
   "cell_type": "code",
   "execution_count": 217,
   "metadata": {},
   "outputs": [
    {
     "ename": "SyntaxError",
     "evalue": "invalid syntax (3706319389.py, line 1)",
     "output_type": "error",
     "traceback": [
      "\u001b[0;36m  File \u001b[0;32m\"/var/folders/qn/bxn3gpq553nf7p7sly6btd7c0000gn/T/ipykernel_42910/3706319389.py\"\u001b[0;36m, line \u001b[0;32m1\u001b[0m\n\u001b[0;31m    {'update_id': 947131244, 'message': {'content_type': 'voice', 'id': 189, 'message_id': 189, 'from_user': <telebot.types.User object at 0x7fd597abff50>, 'date': 1678995561, 'chat': <telebot.types.Chat object at 0x7fd597222f10>, 'sender_chat': None, 'forward_from': None, 'forward_from_chat': None, 'forward_from_message_id': None, 'forward_signature': None, 'forward_sender_name': None, 'forward_date': None, 'is_automatic_forward': None, 'reply_to_message': None, 'via_bot': None, 'edit_date': None, 'has_protected_content': None, 'media_group_id': None, 'author_signature': None, 'text': None, 'entities': None, 'caption_entities': None, 'audio': None, 'document': None, 'photo': None, 'sticker': None, 'video': None, 'video_note': None, 'voice': <telebot.types.Audio object at 0x7fd597ab7e90>, 'caption': None, 'contact': None, 'location': None, 'venue': None, 'animation': None, 'dice': None, 'new_chat_member': None, 'new_chat_members': None, 'left_chat_member': None, 'new_chat_title': None, 'new_chat_photo': None, 'delete_chat_photo': None, 'group_chat_created': None, 'supergroup_chat_created': None, 'channel_chat_created': None, 'migrate_to_chat_id': None, 'migrate_from_chat_id': None, 'pinned_message': None, 'invoice': None, 'successful_payment': None, 'connected_website': None, 'reply_markup': None, 'message_thread_id': None, 'is_topic_message': None, 'forum_topic_created': None, 'forum_topic_closed': None, 'forum_topic_reopened': None, 'has_media_spoiler': None, 'forum_topic_edited': None, 'general_forum_topic_hidden': None, 'general_forum_topic_unhidden': None, 'write_access_allowed': None, 'user_shared': None, 'chat_shared': None, 'json': {'message_id': 189, 'from': {'id': 1122814054, 'is_bot': False, 'first_name': 'Samuel', 'username': 'sammybams', 'language_code': 'en'}, 'chat': {'id': 1122814054, 'first_name': 'Samuel', 'username': 'sammybams', 'type': 'private'}, 'date': 1678995561, 'voice': {'duration': 0, 'mime_type': 'audio/ogg', 'file_id': 'AwACAgQAAxkBAAO9ZBNwaWdPekkDUVWUud_XpAGvosEAAvILAAJqfKFQZPFh1kDJlEovBA', 'file_unique_id': 'AgAD8gsAAmp8oVA', 'file_size': 15704}}}, 'edited_message': None, 'channel_post': None, 'edited_channel_post': None, 'inline_query': None, 'chosen_inline_result': None, 'callback_query': None, 'shipping_query': None, 'pre_checkout_query': None, 'poll': None, 'poll_answer': None, 'my_chat_member': None, 'chat_member': None, 'chat_join_request': None}\u001b[0m\n\u001b[0m                                                                                                             ^\u001b[0m\n\u001b[0;31mSyntaxError\u001b[0m\u001b[0;31m:\u001b[0m invalid syntax\n"
     ]
    }
   ],
   "source": [
    "{'update_id': 947131244,\n",
    " 'message': {'content_type': 'voice', 'id': 189, 'message_id': 189, 'from_user': <telebot.types.User object at 0x7fd597abff50>, 'date': 1678995561, 'chat': <telebot.types.Chat object at 0x7fd597222f10>, 'sender_chat': None, 'forward_from': None, 'forward_from_chat': None, 'forward_from_message_id': None, 'forward_signature': None, 'forward_sender_name': None, 'forward_date': None, 'is_automatic_forward': None, 'reply_to_message': None, 'via_bot': None, 'edit_date': None, 'has_protected_content': None, 'media_group_id': None, 'author_signature': None, 'text': None, 'entities': None, 'caption_entities': None, 'audio': None, 'document': None, 'photo': None, 'sticker': None, 'video': None, 'video_note': None, 'voice': <telebot.types.Audio object at 0x7fd597ab7e90>, 'caption': None, 'contact': None, 'location': None, 'venue': None, 'animation': None, 'dice': None, 'new_chat_member': None, 'new_chat_members': None, 'left_chat_member': None, 'new_chat_title': None, 'new_chat_photo': None, 'delete_chat_photo': None, 'group_chat_created': None, 'supergroup_chat_created': None, 'channel_chat_created': None, 'migrate_to_chat_id': None, 'migrate_from_chat_id': None, 'pinned_message': None, 'invoice': None, 'successful_payment': None, 'connected_website': None, 'reply_markup': None, 'message_thread_id': None, 'is_topic_message': None, 'forum_topic_created': None, 'forum_topic_closed': None, 'forum_topic_reopened': None, 'has_media_spoiler': None, 'forum_topic_edited': None, 'general_forum_topic_hidden': None, 'general_forum_topic_unhidden': None, 'write_access_allowed': None, 'user_shared': None, 'chat_shared': None, 'json': {'message_id': 189, 'from': {'id': 1122814054, 'is_bot': False, 'first_name': 'Samuel', 'username': 'sammybams', 'language_code': 'en'}, 'chat': {'id': 1122814054, 'first_name': 'Samuel', 'username': 'sammybams', 'type': 'private'}, 'date': 1678995561, 'voice': {'duration': 0, 'mime_type': 'audio/ogg', 'file_id': 'AwACAgQAAxkBAAO9ZBNwaWdPekkDUVWUud_XpAGvosEAAvILAAJqfKFQZPFh1kDJlEovBA', 'file_unique_id': 'AgAD8gsAAmp8oVA', 'file_size': 15704}}}, 'edited_message': None, 'channel_post': None, 'edited_channel_post': None, 'inline_query': None, 'chosen_inline_result': None, 'callback_query': None, 'shipping_query': None, 'pre_checkout_query': None, 'poll': None, 'poll_answer': None, 'my_chat_member': None, 'chat_member': None, 'chat_join_request': None}"
   ]
  },
  {
   "cell_type": "code",
   "execution_count": null,
   "metadata": {},
   "outputs": [],
   "source": []
  }
 ],
 "metadata": {
  "kernelspec": {
   "display_name": "whisper_to_text_bot",
   "language": "python",
   "name": "whisper_to_text_bot"
  },
  "language_info": {
   "codemirror_mode": {
    "name": "ipython",
    "version": 3
   },
   "file_extension": ".py",
   "mimetype": "text/x-python",
   "name": "python",
   "nbconvert_exporter": "python",
   "pygments_lexer": "ipython3",
   "version": "3.7.6"
  }
 },
 "nbformat": 4,
 "nbformat_minor": 4
}
