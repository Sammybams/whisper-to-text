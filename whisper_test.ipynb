{
  "cells": [
    {
      "cell_type": "code",
      "source": [
        "!pip install pyTelegramBotAPI"
      ],
      "outputs": [
        {
          "output_type": "stream",
          "name": "stdout",
          "text": "Collecting pyTelegramBotAPI\n  Downloading pyTelegramBotAPI-4.10.0.tar.gz (222 kB)\n\u001b[K     |████████████████████████████████| 222 kB 5.2 MB/s eta 0:00:01\n\u001b[?25hRequirement already satisfied: requests in /anaconda/envs/azureml_py38/lib/python3.8/site-packages (from pyTelegramBotAPI) (2.28.1)\nRequirement already satisfied: certifi>=2017.4.17 in /anaconda/envs/azureml_py38/lib/python3.8/site-packages (from requests->pyTelegramBotAPI) (2022.9.24)\nRequirement already satisfied: urllib3<1.27,>=1.21.1 in /anaconda/envs/azureml_py38/lib/python3.8/site-packages (from requests->pyTelegramBotAPI) (1.26.13)\nRequirement already satisfied: charset-normalizer<3,>=2 in /anaconda/envs/azureml_py38/lib/python3.8/site-packages (from requests->pyTelegramBotAPI) (2.1.1)\nRequirement already satisfied: idna<4,>=2.5 in /anaconda/envs/azureml_py38/lib/python3.8/site-packages (from requests->pyTelegramBotAPI) (3.4)\nBuilding wheels for collected packages: pyTelegramBotAPI\n  Building wheel for pyTelegramBotAPI (setup.py) ... \u001b[?25l-\b \b\\\b \bdone\n\u001b[?25h  Created wheel for pyTelegramBotAPI: filename=pyTelegramBotAPI-4.10.0-py3-none-any.whl size=205385 sha256=cdae5a67cdf8feb729f432bcf75acfd0d0d3bdd6d74981699589835d8a4676c5\n  Stored in directory: /home/azureuser/.cache/pip/wheels/ee/e3/f1/4c142d3be2e5f09c1ba8bf5801ae61d7b2cfd9afe497872806\nSuccessfully built pyTelegramBotAPI\nInstalling collected packages: pyTelegramBotAPI\nSuccessfully installed pyTelegramBotAPI-4.10.0\n"
        }
      ],
      "execution_count": 8,
      "metadata": {
        "jupyter": {
          "source_hidden": false,
          "outputs_hidden": false
        },
        "nteract": {
          "transient": {
            "deleting": false
          }
        }
      }
    },
    {
      "cell_type": "code",
      "source": [
        "!pip install python-dotenv"
      ],
      "outputs": [
        {
          "output_type": "stream",
          "name": "stdout",
          "text": "Collecting python-dotenv\n  Downloading python_dotenv-1.0.0-py3-none-any.whl (19 kB)\nInstalling collected packages: python-dotenv\nSuccessfully installed python-dotenv-1.0.0\n"
        }
      ],
      "execution_count": 11,
      "metadata": {
        "jupyter": {
          "source_hidden": false,
          "outputs_hidden": false
        },
        "nteract": {
          "transient": {
            "deleting": false
          }
        }
      }
    },
    {
      "cell_type": "code",
      "source": [
        "!pip install git+https://github.com/openai/whisper.git "
      ],
      "outputs": [
        {
          "output_type": "stream",
          "name": "stdout",
          "text": "Collecting git+https://github.com/openai/whisper.git\n  Cloning https://github.com/openai/whisper.git to /tmp/pip-req-build-pjfv84gx\n  Running command git clone -q https://github.com/openai/whisper.git /tmp/pip-req-build-pjfv84gx\n  Installing build dependencies ... \u001b[?25l-\b \b\\\b \b|\b \b/\b \bdone\n\u001b[?25h  Getting requirements to build wheel ... \u001b[?25l-\b \bdone\n\u001b[?25h    Preparing wheel metadata ... \u001b[?25l-\b \bdone\n\u001b[?25hRequirement already satisfied: torch in /anaconda/envs/azureml_py38/lib/python3.8/site-packages (from openai-whisper==20230314) (1.12.0)\nCollecting tiktoken==0.3.1\n  Downloading tiktoken-0.3.1-cp38-cp38-manylinux_2_17_x86_64.manylinux2014_x86_64.whl (1.7 MB)\n\u001b[K     |████████████████████████████████| 1.7 MB 6.0 MB/s eta 0:00:01\n\u001b[?25hCollecting triton==2.0.0\n  Downloading triton-2.0.0-cp38-cp38-manylinux_2_17_x86_64.manylinux2014_x86_64.whl (63.2 MB)\n\u001b[K     |████████████████████████████████| 63.2 MB 19 kB/s s eta 0:00:01\n\u001b[?25hRequirement already satisfied: tqdm in /anaconda/envs/azureml_py38/lib/python3.8/site-packages (from openai-whisper==20230314) (4.64.1)\nCollecting ffmpeg-python==0.2.0\n  Downloading ffmpeg_python-0.2.0-py3-none-any.whl (25 kB)\nRequirement already satisfied: numpy in /anaconda/envs/azureml_py38/lib/python3.8/site-packages (from openai-whisper==20230314) (1.21.6)\nRequirement already satisfied: numba in /anaconda/envs/azureml_py38/lib/python3.8/site-packages (from openai-whisper==20230314) (0.55.2)\nCollecting more-itertools\n  Downloading more_itertools-9.1.0-py3-none-any.whl (54 kB)\n\u001b[K     |████████████████████████████████| 54 kB 643 kB/s  eta 0:00:01\n\u001b[?25hRequirement already satisfied: typing-extensions in /anaconda/envs/azureml_py38/lib/python3.8/site-packages (from torch->openai-whisper==20230314) (4.4.0)\nRequirement already satisfied: requests>=2.26.0 in /anaconda/envs/azureml_py38/lib/python3.8/site-packages (from tiktoken==0.3.1->openai-whisper==20230314) (2.28.1)\nRequirement already satisfied: regex>=2022.1.18 in /anaconda/envs/azureml_py38/lib/python3.8/site-packages (from tiktoken==0.3.1->openai-whisper==20230314) (2022.10.31)\nCollecting lit\n  Downloading lit-15.0.7.tar.gz (132 kB)\n\u001b[K     |████████████████████████████████| 132 kB 81.7 MB/s eta 0:00:01\n\u001b[?25hCollecting cmake\n  Downloading cmake-3.26.0-py2.py3-none-manylinux2014_x86_64.manylinux_2_17_x86_64.whl (24.0 MB)\n\u001b[K     |████████████████████████████████| 24.0 MB 73.7 MB/s eta 0:00:01\n\u001b[?25hRequirement already satisfied: filelock in /anaconda/envs/azureml_py38/lib/python3.8/site-packages (from triton==2.0.0->openai-whisper==20230314) (3.8.2)\nRequirement already satisfied: future in /anaconda/envs/azureml_py38/lib/python3.8/site-packages (from ffmpeg-python==0.2.0->openai-whisper==20230314) (0.18.2)\nRequirement already satisfied: llvmlite<0.39,>=0.38.0rc1 in /anaconda/envs/azureml_py38/lib/python3.8/site-packages (from numba->openai-whisper==20230314) (0.38.1)\nRequirement already satisfied: setuptools in /anaconda/envs/azureml_py38/lib/python3.8/site-packages (from numba->openai-whisper==20230314) (49.6.0)\nRequirement already satisfied: idna<4,>=2.5 in /anaconda/envs/azureml_py38/lib/python3.8/site-packages (from requests>=2.26.0->tiktoken==0.3.1->openai-whisper==20230314) (3.4)\nRequirement already satisfied: charset-normalizer<3,>=2 in /anaconda/envs/azureml_py38/lib/python3.8/site-packages (from requests>=2.26.0->tiktoken==0.3.1->openai-whisper==20230314) (2.1.1)\nRequirement already satisfied: certifi>=2017.4.17 in /anaconda/envs/azureml_py38/lib/python3.8/site-packages (from requests>=2.26.0->tiktoken==0.3.1->openai-whisper==20230314) (2022.9.24)\nRequirement already satisfied: urllib3<1.27,>=1.21.1 in /anaconda/envs/azureml_py38/lib/python3.8/site-packages (from requests>=2.26.0->tiktoken==0.3.1->openai-whisper==20230314) (1.26.13)\nBuilding wheels for collected packages: openai-whisper, lit\n  Building wheel for openai-whisper (PEP 517) ... \u001b[?25l-\b \b\\\b \bdone\n\u001b[?25h  Created wheel for openai-whisper: filename=openai_whisper-20230314-py3-none-any.whl size=796910 sha256=01a801ca3b986bf6c73debcbf5c2428525f48e189b1e039d56badd325f96aafe\n  Stored in directory: /tmp/pip-ephem-wheel-cache-atr30z6k/wheels/a7/70/18/b7693c07b1d18b3dafb328f5d0496aa0d41a9c09ef332fd8e6\n  Building wheel for lit (setup.py) ... \u001b[?25l-\b \b\\\b \bdone\n\u001b[?25h  Created wheel for lit: filename=lit-15.0.7-py3-none-any.whl size=89984 sha256=b8eaea61317bfe329718d0b688ae98c23fe1c04eea4193f425deb5246e421980\n  Stored in directory: /home/azureuser/.cache/pip/wheels/0e/47/23/ef2e2c441fcfda594f1a69c7f977bd94cff3bc39601af6a918\nSuccessfully built openai-whisper lit\nInstalling collected packages: tiktoken, lit, cmake, triton, ffmpeg-python, more-itertools, openai-whisper\nSuccessfully installed cmake-3.26.0 ffmpeg-python-0.2.0 lit-15.0.7 more-itertools-9.1.0 openai-whisper-20230314 tiktoken-0.3.1 triton-2.0.0\n"
        }
      ],
      "execution_count": 10,
      "metadata": {
        "jupyter": {
          "source_hidden": false,
          "outputs_hidden": false
        },
        "nteract": {
          "transient": {
            "deleting": false
          }
        }
      }
    },
    {
      "cell_type": "code",
      "source": [],
      "outputs": [],
      "execution_count": null,
      "metadata": {
        "jupyter": {
          "source_hidden": false,
          "outputs_hidden": false
        },
        "nteract": {
          "transient": {
            "deleting": false
          }
        }
      }
    },
    {
      "cell_type": "code",
      "source": [],
      "outputs": [],
      "execution_count": null,
      "metadata": {
        "jupyter": {
          "source_hidden": false,
          "outputs_hidden": false
        },
        "nteract": {
          "transient": {
            "deleting": false
          }
        }
      }
    },
    {
      "cell_type": "code",
      "source": [
        "import whisper\n",
        "model = whisper.load_model(\"large\")"
      ],
      "outputs": [],
      "execution_count": 1,
      "metadata": {
        "jupyter": {
          "source_hidden": false,
          "outputs_hidden": false
        },
        "nteract": {
          "transient": {
            "deleting": false
          }
        },
        "gather": {
          "logged": 1679056862829
        }
      }
    },
    {
      "cell_type": "code",
      "source": [
        "import os\n",
        "import telebot\n",
        "import requests\n",
        "from dotenv import load_dotenv\n",
        "\n",
        "load_dotenv('bot_token.env')\n",
        "BOT_TOKEN = os.environ.get('TELEGRAM_BOT_TOKEN')"
      ],
      "outputs": [],
      "execution_count": 12,
      "metadata": {
        "jupyter": {
          "source_hidden": false,
          "outputs_hidden": false
        },
        "nteract": {
          "transient": {
            "deleting": false
          }
        },
        "gather": {
          "logged": 1679057836763
        }
      }
    },
    {
      "cell_type": "code",
      "source": [
        "def download_file(URL):\n",
        "\tresponse = requests.get(URL)\n",
        "\twith open('voice.ogx', 'wb') as f:\n",
        "\t\tf.write(response.content)"
      ],
      "outputs": [],
      "execution_count": 13,
      "metadata": {
        "jupyter": {
          "source_hidden": false,
          "outputs_hidden": false
        },
        "nteract": {
          "transient": {
            "deleting": false
          }
        },
        "gather": {
          "logged": 1679057837142
        }
      }
    },
    {
      "cell_type": "code",
      "source": [
        "LANGUAGES = {\n",
        "    \"en\": \"english\",\n",
        "    \"zh\": \"chinese\",\n",
        "    \"de\": \"german\",\n",
        "    \"es\": \"spanish\",\n",
        "    \"ru\": \"russian\",\n",
        "    \"ko\": \"korean\",\n",
        "    \"fr\": \"french\",\n",
        "    \"ja\": \"japanese\",\n",
        "    \"pt\": \"portuguese\",\n",
        "    \"tr\": \"turkish\",\n",
        "    \"pl\": \"polish\",\n",
        "    \"ca\": \"catalan\",\n",
        "    \"nl\": \"dutch\",\n",
        "    \"ar\": \"arabic\",\n",
        "    \"sv\": \"swedish\",\n",
        "    \"it\": \"italian\",\n",
        "    \"id\": \"indonesian\",\n",
        "    \"hi\": \"hindi\",\n",
        "    \"fi\": \"finnish\",\n",
        "    \"vi\": \"vietnamese\",\n",
        "    \"he\": \"hebrew\",\n",
        "    \"uk\": \"ukrainian\",\n",
        "    \"el\": \"greek\",\n",
        "    \"ms\": \"malay\",\n",
        "    \"cs\": \"czech\",\n",
        "    \"ro\": \"romanian\",\n",
        "    \"da\": \"danish\",\n",
        "    \"hu\": \"hungarian\",\n",
        "    \"ta\": \"tamil\",\n",
        "    \"no\": \"norwegian\",\n",
        "    \"th\": \"thai\",\n",
        "    \"ur\": \"urdu\",\n",
        "    \"hr\": \"croatian\",\n",
        "    \"bg\": \"bulgarian\",\n",
        "    \"lt\": \"lithuanian\",\n",
        "    \"la\": \"latin\",\n",
        "    \"mi\": \"maori\",\n",
        "    \"ml\": \"malayalam\",\n",
        "    \"cy\": \"welsh\",\n",
        "    \"sk\": \"slovak\",\n",
        "    \"te\": \"telugu\",\n",
        "    \"fa\": \"persian\",\n",
        "    \"lv\": \"latvian\",\n",
        "    \"bn\": \"bengali\",\n",
        "    \"sr\": \"serbian\",\n",
        "    \"az\": \"azerbaijani\",\n",
        "    \"sl\": \"slovenian\",\n",
        "    \"kn\": \"kannada\",\n",
        "    \"et\": \"estonian\",\n",
        "    \"mk\": \"macedonian\",\n",
        "    \"br\": \"breton\",\n",
        "    \"eu\": \"basque\",\n",
        "    \"is\": \"icelandic\",\n",
        "    \"hy\": \"armenian\",\n",
        "    \"ne\": \"nepali\",\n",
        "    \"mn\": \"mongolian\",\n",
        "    \"bs\": \"bosnian\",\n",
        "    \"kk\": \"kazakh\",\n",
        "    \"sq\": \"albanian\",\n",
        "    \"sw\": \"swahili\",\n",
        "    \"gl\": \"galician\",\n",
        "    \"mr\": \"marathi\",\n",
        "    \"pa\": \"punjabi\",\n",
        "    \"si\": \"sinhala\",\n",
        "    \"km\": \"khmer\",\n",
        "    \"sn\": \"shona\",\n",
        "    \"yo\": \"yoruba\",\n",
        "    \"so\": \"somali\",\n",
        "    \"af\": \"afrikaans\",\n",
        "    \"oc\": \"occitan\",\n",
        "    \"ka\": \"georgian\",\n",
        "    \"be\": \"belarusian\",\n",
        "    \"tg\": \"tajik\",\n",
        "    \"sd\": \"sindhi\",\n",
        "    \"gu\": \"gujarati\",\n",
        "    \"am\": \"amharic\",\n",
        "    \"yi\": \"yiddish\",\n",
        "    \"lo\": \"lao\",\n",
        "    \"uz\": \"uzbek\",\n",
        "    \"fo\": \"faroese\",\n",
        "    \"ht\": \"haitian creole\",\n",
        "    \"ps\": \"pashto\",\n",
        "    \"tk\": \"turkmen\",\n",
        "    \"nn\": \"nynorsk\",\n",
        "    \"mt\": \"maltese\",\n",
        "    \"sa\": \"sanskrit\",\n",
        "    \"lb\": \"luxembourgish\",\n",
        "    \"my\": \"myanmar\",\n",
        "    \"bo\": \"tibetan\",\n",
        "    \"tl\": \"tagalog\",\n",
        "    \"mg\": \"malagasy\",\n",
        "    \"as\": \"assamese\",\n",
        "    \"tt\": \"tatar\",\n",
        "    \"haw\": \"hawaiian\",\n",
        "    \"ln\": \"lingala\",\n",
        "    \"ha\": \"hausa\",\n",
        "    \"ba\": \"bashkir\",\n",
        "    \"jw\": \"javanese\",\n",
        "    \"su\": \"sundanese\",\n",
        "}\n"
      ],
      "outputs": [],
      "execution_count": 14,
      "metadata": {
        "jupyter": {
          "source_hidden": false,
          "outputs_hidden": false
        },
        "nteract": {
          "transient": {
            "deleting": false
          }
        },
        "gather": {
          "logged": 1679057837440
        }
      }
    },
    {
      "cell_type": "code",
      "source": [
        "initial_string = '''I automatically transcribe your audio/voice notes. I can help you detect what language is being spoken and translate to english.\n",
        "Created by [Samuel Bamgbola](twitter.com/Sammyabams)\n",
        "Github Page [Whisper to Text bot](github.com/Sammybams/)\n",
        "\n",
        "You can control me by sending these commands:\n",
        "\n",
        "[Languages Supported](https://github.com/openai/whisper/blob/main/whisper/tokenizer.py)\n",
        "\n",
        "Help\n",
        "/help - give control commands\n",
        "\n",
        "Functions\n",
        "/detect - to detect spoken language\n",
        "/translate - to translate to english\n",
        "'''\n",
        "\n",
        "help_string = '''Functions\n",
        "/detect - to detect spoken language\n",
        "/translate - to translate to english\n",
        "'''"
      ],
      "outputs": [],
      "execution_count": 15,
      "metadata": {
        "jupyter": {
          "source_hidden": false,
          "outputs_hidden": false
        },
        "nteract": {
          "transient": {
            "deleting": false
          }
        },
        "gather": {
          "logged": 1679057838021
        }
      }
    },
    {
      "cell_type": "code",
      "source": [
        "bot = telebot.TeleBot(BOT_TOKEN)"
      ],
      "outputs": [],
      "execution_count": 16,
      "metadata": {
        "jupyter": {
          "source_hidden": false,
          "outputs_hidden": false
        },
        "nteract": {
          "transient": {
            "deleting": false
          }
        },
        "gather": {
          "logged": 1679057838222
        }
      }
    },
    {
      "cell_type": "code",
      "source": [
        "@bot.message_handler(commands=['start', 'hello'])\n",
        "def send_welcome(message):\n",
        "    global initial_string\n",
        "    bot.reply_to(message, \"Hi, I am Whisper to Text bot.\\nWelcome, how are you doing?\")\n",
        "    bot.send_message(message.chat.id, initial_string, parse_mode=\"Markdown\")"
      ],
      "outputs": [],
      "execution_count": 17,
      "metadata": {
        "jupyter": {
          "source_hidden": false,
          "outputs_hidden": false
        },
        "nteract": {
          "transient": {
            "deleting": false
          }
        },
        "gather": {
          "logged": 1679057838414
        }
      }
    },
    {
      "cell_type": "code",
      "source": [
        "@bot.message_handler(commands=['help'])\n",
        "def help_command(message):\n",
        "    sent_msg = bot.send_message(message.chat.id, help_string, parse_mode=\"Markdown\")\n",
        "\n",
        "@bot.message_handler(commands=['detect'])\n",
        "def detect_function(message):\n",
        "    sent_msg = bot.send_message(message.chat.id, \"Send audio to detect language\")\n",
        "    #bot.send_message(message.chat.id, initial_string, parse_mode=\"Markdown\")\n",
        "    bot.register_next_step_handler(sent_msg, to_detect)\n",
        "    #file_info = telebot.get_file(message['file_id'])\n",
        "\n",
        "def to_detect(message):\n",
        "    #updates = bot.get_updates(limit=1) #get_Updates(offset, limit, timeout):\n",
        "    file_info = bot.get_file(message.voice.file_id)\n",
        "    download_file('https://api.telegram.org/file/bot{0}/{1}'.format(BOT_TOKEN, file_info.file_path))\n",
        "    # load audio and pad/trim it to fit 30 seconds\n",
        "    audio = whisper.load_audio('voice.ogx')\n",
        "    audio = whisper.pad_or_trim(audio)\n",
        "\n",
        "    # make log-Mel spectrogram and move to the same device as the model\n",
        "    mel = whisper.log_mel_spectrogram(audio).to(model.device)\n",
        "\n",
        "    # detect the spoken language\n",
        "    _, probs = model.detect_language(mel)\n",
        "    if os.path.exists('voice.ogx'):\n",
        "        os.remove('voice.ogx')\n",
        "    else:\n",
        "        #print(\"The file does not exist\")\n",
        "        pass\n",
        "    sent_msg = bot.reply_to(message, f\"Detected language: {LANGUAGES[max(probs, key=probs.get)].capitalize()}\", parse_mode=\"Markdown\")\n",
        "\n",
        "\n"
      ],
      "outputs": [],
      "execution_count": 18,
      "metadata": {
        "jupyter": {
          "source_hidden": false,
          "outputs_hidden": false
        },
        "nteract": {
          "transient": {
            "deleting": false
          }
        },
        "gather": {
          "logged": 1679057838713
        }
      }
    },
    {
      "cell_type": "code",
      "source": [
        "@bot.message_handler(commands=['translate'])\n",
        "def detect_function(message):\n",
        "    sent_msg = bot.send_message(message.chat.id, \"Send audio to translate to english\")\n",
        "    #bot.send_message(message.chat.id, initial_string, parse_mode=\"Markdown\")\n",
        "    bot.register_next_step_handler(sent_msg, to_translate)\n",
        "    #file_info = telebot.get_file(message['file_id'])\n",
        "\n",
        "def to_translate(message):\n",
        "    bot.send_message(message.chat.id, \"Translating.....\")\n",
        "    file_info = bot.get_file(message.voice.file_id)\n",
        "    download_file('https://api.telegram.org/file/bot{0}/{1}'.format(BOT_TOKEN, file_info.file_path))\n",
        "    result = model.transcribe('voice.ogx', task='translate')\n",
        "    \n",
        "    audio = whisper.load_audio('voice.ogx')\n",
        "    audio = whisper.pad_or_trim(audio)\n",
        "\n",
        "    mel = whisper.log_mel_spectrogram(audio).to(model.device)\n",
        "    _, probs = model.detect_language(mel)\n",
        "    if os.path.exists('voice.ogx'):\n",
        "        os.remove('voice.ogx')\n",
        "    else:\n",
        "        #print(\"The file does not exist\")\n",
        "        pass\n",
        "    send_msg = bot.reply_to(message, f\"Detected language: {LANGUAGES[max(probs, key=probs.get)].capitalize()}\", parse_mode=\"Markdown\")\n",
        "    bot.send_message(send_msg.chat.id, result[\"text\"], parse_mode=\"Markdown\")"
      ],
      "outputs": [],
      "execution_count": 19,
      "metadata": {
        "jupyter": {
          "source_hidden": false,
          "outputs_hidden": false
        },
        "nteract": {
          "transient": {
            "deleting": false
          }
        },
        "gather": {
          "logged": 1679057838911
        }
      }
    },
    {
      "cell_type": "code",
      "source": [
        "@bot.message_handler(func=lambda msg: True, content_types=['audio','voice'])\n",
        "def handle_audio(message):\n",
        "    bot.send_message(message.chat.id, \"Transcribing.....\", parse_mode=\"Markdown\")\n",
        "    \n",
        "    file_info = bot.get_file(message.voice.file_id)\n",
        "    download_file('https://api.telegram.org/file/bot{0}/{1}'.format(BOT_TOKEN, file_info.file_path))\n",
        "    result = model.transcribe('voice.ogx')\n",
        "    \n",
        "    bot.reply_to(message.chat.id, result[\"text\"], parse_mode=\"Markdown\")"
      ],
      "outputs": [],
      "execution_count": 20,
      "metadata": {
        "jupyter": {
          "source_hidden": false,
          "outputs_hidden": false
        },
        "nteract": {
          "transient": {
            "deleting": false
          }
        },
        "gather": {
          "logged": 1679057839495
        }
      }
    },
    {
      "cell_type": "code",
      "source": [
        "bot.infinity_polling()"
      ],
      "outputs": [
        {
          "output_type": "stream",
          "name": "stderr",
          "text": "2023-03-17 13:07:59,092 (__init__.py:966 MainThread) ERROR - TeleBot: \"Infinity polling: polling exited\"\n2023-03-17 13:07:59,092 (__init__.py:968 MainThread) ERROR - TeleBot: \"Break infinity polling\"\n"
        }
      ],
      "execution_count": 21,
      "metadata": {
        "jupyter": {
          "source_hidden": false,
          "outputs_hidden": false
        },
        "nteract": {
          "transient": {
            "deleting": false
          }
        },
        "gather": {
          "logged": 1679058590267
        }
      }
    },
    {
      "cell_type": "code",
      "source": [],
      "outputs": [],
      "execution_count": null,
      "metadata": {
        "jupyter": {
          "source_hidden": false,
          "outputs_hidden": false
        },
        "nteract": {
          "transient": {
            "deleting": false
          }
        }
      }
    },
    {
      "cell_type": "code",
      "source": [],
      "outputs": [],
      "execution_count": null,
      "metadata": {
        "jupyter": {
          "source_hidden": false,
          "outputs_hidden": false
        },
        "nteract": {
          "transient": {
            "deleting": false
          }
        }
      }
    },
    {
      "cell_type": "code",
      "source": [],
      "outputs": [],
      "execution_count": null,
      "metadata": {
        "jupyter": {
          "source_hidden": false,
          "outputs_hidden": false
        },
        "nteract": {
          "transient": {
            "deleting": false
          }
        }
      }
    },
    {
      "cell_type": "code",
      "source": [],
      "outputs": [],
      "execution_count": null,
      "metadata": {
        "jupyter": {
          "source_hidden": false,
          "outputs_hidden": false
        },
        "nteract": {
          "transient": {
            "deleting": false
          }
        }
      }
    }
  ],
  "metadata": {
    "kernelspec": {
      "name": "python38-azureml",
      "language": "python",
      "display_name": "Python 3.8 - AzureML"
    },
    "language_info": {
      "name": "python",
      "version": "3.8.10",
      "mimetype": "text/x-python",
      "codemirror_mode": {
        "name": "ipython",
        "version": 3
      },
      "pygments_lexer": "ipython3",
      "nbconvert_exporter": "python",
      "file_extension": ".py"
    },
    "microsoft": {
      "ms_spell_check": {
        "ms_spell_check_language": "en"
      },
      "host": {
        "AzureML": {
          "notebookHasBeenCompleted": true
        }
      }
    },
    "kernel_info": {
      "name": "python38-azureml"
    },
    "nteract": {
      "version": "nteract-front-end@1.0.0"
    }
  },
  "nbformat": 4,
  "nbformat_minor": 2
}